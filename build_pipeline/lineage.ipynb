{
 "cells": [
  {
   "attachments": {},
   "cell_type": "markdown",
   "id": "378d8cc7-d9bf-46a5-ba2f-6bfd4f10e202",
   "metadata": {},
   "source": [
    "# Lineage\n",
    "\n",
    "This notebook shows how to use [SageMaker Lineage](https://sagemaker.readthedocs.io/en/stable/workflows/lineage/index.html) to retrieve the links between the different steps of the ML workflow.\n",
    "\n",
    "***\n",
    "This notebook has been written for `Data Science 3.0 (Python 3) kernel`\n",
    "***"
   ]
  },
  {
   "cell_type": "code",
   "execution_count": null,
   "id": "5d9d9445-d313-4655-8ce2-2393a97c2f92",
   "metadata": {
    "tags": []
   },
   "outputs": [],
   "source": [
    "%pip install -q pyvis"
   ]
  },
  {
   "cell_type": "code",
   "execution_count": null,
   "id": "f9671b51-ec8f-4f76-b5fe-3c6a87c31722",
   "metadata": {
    "tags": []
   },
   "outputs": [],
   "source": [
    "import pprint\n",
    "\n",
    "import sagemaker\n",
    "from sagemaker.lineage.action import Action\n",
    "from sagemaker.lineage.artifact import Artifact, DatasetArtifact, ModelArtifact\n",
    "from sagemaker.lineage.association import Association\n",
    "from sagemaker.lineage.context import Context, EndpointContext\n",
    "from sagemaker.lineage.query import (\n",
    "    LineageEntityEnum,\n",
    "    LineageFilter,\n",
    "    LineageQuery,\n",
    "    LineageQueryDirectionEnum,\n",
    "    LineageSourceEnum,\n",
    ")\n",
    "from visualizer import Visualizer"
   ]
  },
  {
   "cell_type": "code",
   "execution_count": null,
   "id": "738fede5-d1ae-45f5-b1b1-46efce30b014",
   "metadata": {
    "tags": []
   },
   "outputs": [],
   "source": [
    "%store -r project_name"
   ]
  },
  {
   "cell_type": "code",
   "execution_count": null,
   "id": "2e045166-c64a-44a3-b4f5-ddf89697d791",
   "metadata": {
    "tags": []
   },
   "outputs": [],
   "source": [
    "sagemaker_session = sagemaker.Session()\n",
    "region = sagemaker_session.boto_region_name\n",
    "sm_client = sagemaker_session.sagemaker_client\n",
    "default_bucket = sagemaker_session.default_bucket()\n",
    "role = sagemaker.get_execution_role()\n",
    "project_id = sm_client.describe_project(ProjectName=project_name)[\"ProjectId\"]\n",
    "\n",
    "# Helper function to print query outputs\n",
    "pp = pprint.PrettyPrinter()\n",
    "\n",
    "print(f\"Project: {project_name} ({project_id})\")"
   ]
  },
  {
   "cell_type": "code",
   "execution_count": null,
   "id": "ec785a5a-642f-40d0-af54-24921c2b2cad",
   "metadata": {
    "tags": []
   },
   "outputs": [],
   "source": [
    "endpoint_name = f\"{project_name}-staging\"\n",
    "endpoint_arn = sm_client.describe_endpoint(\n",
    "    EndpointName=endpoint_name,\n",
    ").get(\"EndpointArn\")"
   ]
  },
  {
   "cell_type": "code",
   "execution_count": null,
   "id": "342d98b2-2f3c-400c-bbaf-74bb5828c905",
   "metadata": {
    "tags": []
   },
   "outputs": [],
   "source": [
    "contexts = Context.list(source_uri=endpoint_arn)\n",
    "context_name = list(contexts)[0].context_name\n",
    "endpoint_context = EndpointContext.load(context_name=context_name)"
   ]
  },
  {
   "attachments": {},
   "cell_type": "markdown",
   "id": "ca5e1902-af14-462c-befe-56feb95775a2",
   "metadata": {},
   "source": [
    "## Registered model package from Endpoint"
   ]
  },
  {
   "cell_type": "code",
   "execution_count": null,
   "id": "5fd4417b-4515-43c1-be3c-52ff4dfaeadf",
   "metadata": {
    "tags": []
   },
   "outputs": [],
   "source": [
    "query_filter = LineageFilter(\n",
    "    entities=[LineageEntityEnum.ARTIFACT],\n",
    "    sources=[LineageSourceEnum.MODEL],\n",
    "    properties={\"ApprovalStatus\": \"Approved\"},\n",
    ")\n",
    "\n",
    "# Providing this `LineageFilter` to the `LineageQuery` constructs a query that traverses through the given context `endpoint_context`\n",
    "# and find all datasets.\n",
    "\n",
    "query_result = LineageQuery(sagemaker_session).query(\n",
    "    start_arns=[endpoint_context.context_arn],\n",
    "    query_filter=query_filter,\n",
    "    direction=LineageQueryDirectionEnum.ASCENDANTS,\n",
    "    include_edges=False,\n",
    ")\n",
    "\n",
    "# Parse through the query results to get the lineage objects corresponding to the model\n",
    "model_artifacts = []\n",
    "for vertex in query_result.vertices:\n",
    "    model_artifacts.append(vertex.to_lineage_object().source.source_uri)\n",
    "\n",
    "# The results of the `LineageQuery` API call return the ARN of the model deployed to the endpoint\n",
    "# along with the S3 URI to the model.tar.gz file associated with the model\n",
    "pp.pprint(model_artifacts)"
   ]
  },
  {
   "attachments": {},
   "cell_type": "markdown",
   "id": "feddb6b6-0450-421e-9f1a-8a4e3effad08",
   "metadata": {},
   "source": [
    "## Pipeline and pipeline execution from Endpoint"
   ]
  },
  {
   "cell_type": "code",
   "execution_count": null,
   "id": "2a818005-bc09-4b68-9418-6f14ec56f1eb",
   "metadata": {
    "tags": []
   },
   "outputs": [],
   "source": [
    "endpoint_context.pipeline_execution_arn()"
   ]
  },
  {
   "cell_type": "code",
   "execution_count": null,
   "id": "c5656b55-088e-44e2-b308-699af630458b",
   "metadata": {
    "tags": []
   },
   "outputs": [],
   "source": [
    "pipeline_arn = endpoint_context.pipeline_execution_arn().split(\"/execution\")[0]\n",
    "pipeline_arn"
   ]
  },
  {
   "attachments": {},
   "cell_type": "markdown",
   "id": "7d987be6-7bd6-456a-a30a-e2a6a6dbb7d0",
   "metadata": {},
   "source": [
    "## Training job from Endpoint"
   ]
  },
  {
   "cell_type": "code",
   "execution_count": null,
   "id": "c71960fe-0640-4797-9d6d-bb8ed96ac772",
   "metadata": {
    "tags": []
   },
   "outputs": [],
   "source": [
    "# Define the LineageFilter to look for entities of type `TRIAL_COMPONENT` and the source of type `TRAINING_JOB`.\n",
    "\n",
    "query_filter = LineageFilter(\n",
    "    entities=[LineageEntityEnum.TRIAL_COMPONENT],\n",
    "    sources=[LineageSourceEnum.TRAINING_JOB],\n",
    ")\n",
    "\n",
    "# Providing this `LineageFilter` to the `LineageQuery` constructs a query that traverses through the given context `endpoint_context`\n",
    "# and find all datasets.\n",
    "\n",
    "query_result = LineageQuery(sagemaker_session).query(\n",
    "    start_arns=[endpoint_context.context_arn],\n",
    "    query_filter=query_filter,\n",
    "    direction=LineageQueryDirectionEnum.ASCENDANTS,\n",
    "    include_edges=False,\n",
    ")\n",
    "\n",
    "# Parse through the query results to get the ARNs of the training jobs associated with this Endpoint\n",
    "trial_components = []\n",
    "for vertex in query_result.vertices:\n",
    "    trial_components.append(vertex.arn)\n",
    "\n",
    "pp.pprint(trial_components)"
   ]
  },
  {
   "cell_type": "code",
   "execution_count": null,
   "id": "f1eedb09-d482-4ec0-930d-aed93a203e5b",
   "metadata": {
    "tags": []
   },
   "outputs": [],
   "source": [
    "training_jobs = [training_job for training_job in endpoint_context.training_job_arns()]\n",
    "print(\"Training Jobs :\\n\", pp.pformat(training_jobs))"
   ]
  },
  {
   "attachments": {},
   "cell_type": "markdown",
   "id": "a1678caa-fa7c-4eeb-9b58-efab7e96d01f",
   "metadata": {},
   "source": [
    "## Datasets from Endpoint"
   ]
  },
  {
   "cell_type": "code",
   "execution_count": null,
   "id": "f3b08a6c-ad68-4f8b-86e4-9e1480e9294c",
   "metadata": {
    "tags": []
   },
   "outputs": [],
   "source": [
    "print(\"Datasets:\")\n",
    "for dataset in endpoint_context.dataset_artifacts():\n",
    "    print(dataset.source.source_uri)"
   ]
  },
  {
   "attachments": {},
   "cell_type": "markdown",
   "id": "f1086386-6da6-4aa4-8777-09bb17d100c1",
   "metadata": {},
   "source": [
    "## Visualizing the lineage"
   ]
  },
  {
   "cell_type": "code",
   "execution_count": null,
   "id": "d8aa7aee-b51b-47d2-bb63-f4b6990aa1e5",
   "metadata": {
    "tags": []
   },
   "outputs": [],
   "source": [
    "viz = Visualizer()"
   ]
  },
  {
   "cell_type": "code",
   "execution_count": null,
   "id": "c32f738d-b50c-4d38-b75f-0b87fb09d527",
   "metadata": {
    "tags": []
   },
   "outputs": [],
   "source": [
    "query_response = sm_client.query_lineage(\n",
    "    StartArns=[endpoint_context.context_arn],\n",
    "    Direction=\"Ascendants\",\n",
    "    IncludeEdges=True,\n",
    ")\n",
    "\n",
    "viz.render(query_response, \"Endpoint\", height=500, width=1200)"
   ]
  },
  {
   "cell_type": "code",
   "execution_count": null,
   "id": "b0275b57-899b-4d0c-bf73-290fb5646abe",
   "metadata": {
    "tags": []
   },
   "outputs": [],
   "source": [
    "query_response = sm_client.query_lineage(\n",
    "    StartArns=[endpoint_context.context_arn],\n",
    "    Direction=\"Both\",\n",
    "    IncludeEdges=True,\n",
    ")\n",
    "viz.render(query_response, \"Endpoint\", height=700, width=1200)"
   ]
  },
  {
   "cell_type": "code",
   "execution_count": null,
   "id": "ec779c5f-c257-428f-950a-26af12a37a8a",
   "metadata": {},
   "outputs": [],
   "source": []
  }
 ],
 "metadata": {
  "availableInstances": [
   {
    "_defaultOrder": 0,
    "_isFastLaunch": true,
    "category": "General purpose",
    "gpuNum": 0,
    "hideHardwareSpecs": false,
    "memoryGiB": 4,
    "name": "ml.t3.medium",
    "vcpuNum": 2
   },
   {
    "_defaultOrder": 1,
    "_isFastLaunch": false,
    "category": "General purpose",
    "gpuNum": 0,
    "hideHardwareSpecs": false,
    "memoryGiB": 8,
    "name": "ml.t3.large",
    "vcpuNum": 2
   },
   {
    "_defaultOrder": 2,
    "_isFastLaunch": false,
    "category": "General purpose",
    "gpuNum": 0,
    "hideHardwareSpecs": false,
    "memoryGiB": 16,
    "name": "ml.t3.xlarge",
    "vcpuNum": 4
   },
   {
    "_defaultOrder": 3,
    "_isFastLaunch": false,
    "category": "General purpose",
    "gpuNum": 0,
    "hideHardwareSpecs": false,
    "memoryGiB": 32,
    "name": "ml.t3.2xlarge",
    "vcpuNum": 8
   },
   {
    "_defaultOrder": 4,
    "_isFastLaunch": true,
    "category": "General purpose",
    "gpuNum": 0,
    "hideHardwareSpecs": false,
    "memoryGiB": 8,
    "name": "ml.m5.large",
    "vcpuNum": 2
   },
   {
    "_defaultOrder": 5,
    "_isFastLaunch": false,
    "category": "General purpose",
    "gpuNum": 0,
    "hideHardwareSpecs": false,
    "memoryGiB": 16,
    "name": "ml.m5.xlarge",
    "vcpuNum": 4
   },
   {
    "_defaultOrder": 6,
    "_isFastLaunch": false,
    "category": "General purpose",
    "gpuNum": 0,
    "hideHardwareSpecs": false,
    "memoryGiB": 32,
    "name": "ml.m5.2xlarge",
    "vcpuNum": 8
   },
   {
    "_defaultOrder": 7,
    "_isFastLaunch": false,
    "category": "General purpose",
    "gpuNum": 0,
    "hideHardwareSpecs": false,
    "memoryGiB": 64,
    "name": "ml.m5.4xlarge",
    "vcpuNum": 16
   },
   {
    "_defaultOrder": 8,
    "_isFastLaunch": false,
    "category": "General purpose",
    "gpuNum": 0,
    "hideHardwareSpecs": false,
    "memoryGiB": 128,
    "name": "ml.m5.8xlarge",
    "vcpuNum": 32
   },
   {
    "_defaultOrder": 9,
    "_isFastLaunch": false,
    "category": "General purpose",
    "gpuNum": 0,
    "hideHardwareSpecs": false,
    "memoryGiB": 192,
    "name": "ml.m5.12xlarge",
    "vcpuNum": 48
   },
   {
    "_defaultOrder": 10,
    "_isFastLaunch": false,
    "category": "General purpose",
    "gpuNum": 0,
    "hideHardwareSpecs": false,
    "memoryGiB": 256,
    "name": "ml.m5.16xlarge",
    "vcpuNum": 64
   },
   {
    "_defaultOrder": 11,
    "_isFastLaunch": false,
    "category": "General purpose",
    "gpuNum": 0,
    "hideHardwareSpecs": false,
    "memoryGiB": 384,
    "name": "ml.m5.24xlarge",
    "vcpuNum": 96
   },
   {
    "_defaultOrder": 12,
    "_isFastLaunch": false,
    "category": "General purpose",
    "gpuNum": 0,
    "hideHardwareSpecs": false,
    "memoryGiB": 8,
    "name": "ml.m5d.large",
    "vcpuNum": 2
   },
   {
    "_defaultOrder": 13,
    "_isFastLaunch": false,
    "category": "General purpose",
    "gpuNum": 0,
    "hideHardwareSpecs": false,
    "memoryGiB": 16,
    "name": "ml.m5d.xlarge",
    "vcpuNum": 4
   },
   {
    "_defaultOrder": 14,
    "_isFastLaunch": false,
    "category": "General purpose",
    "gpuNum": 0,
    "hideHardwareSpecs": false,
    "memoryGiB": 32,
    "name": "ml.m5d.2xlarge",
    "vcpuNum": 8
   },
   {
    "_defaultOrder": 15,
    "_isFastLaunch": false,
    "category": "General purpose",
    "gpuNum": 0,
    "hideHardwareSpecs": false,
    "memoryGiB": 64,
    "name": "ml.m5d.4xlarge",
    "vcpuNum": 16
   },
   {
    "_defaultOrder": 16,
    "_isFastLaunch": false,
    "category": "General purpose",
    "gpuNum": 0,
    "hideHardwareSpecs": false,
    "memoryGiB": 128,
    "name": "ml.m5d.8xlarge",
    "vcpuNum": 32
   },
   {
    "_defaultOrder": 17,
    "_isFastLaunch": false,
    "category": "General purpose",
    "gpuNum": 0,
    "hideHardwareSpecs": false,
    "memoryGiB": 192,
    "name": "ml.m5d.12xlarge",
    "vcpuNum": 48
   },
   {
    "_defaultOrder": 18,
    "_isFastLaunch": false,
    "category": "General purpose",
    "gpuNum": 0,
    "hideHardwareSpecs": false,
    "memoryGiB": 256,
    "name": "ml.m5d.16xlarge",
    "vcpuNum": 64
   },
   {
    "_defaultOrder": 19,
    "_isFastLaunch": false,
    "category": "General purpose",
    "gpuNum": 0,
    "hideHardwareSpecs": false,
    "memoryGiB": 384,
    "name": "ml.m5d.24xlarge",
    "vcpuNum": 96
   },
   {
    "_defaultOrder": 20,
    "_isFastLaunch": false,
    "category": "General purpose",
    "gpuNum": 0,
    "hideHardwareSpecs": true,
    "memoryGiB": 0,
    "name": "ml.geospatial.interactive",
    "supportedImageNames": [
     "sagemaker-geospatial-v1-0"
    ],
    "vcpuNum": 0
   },
   {
    "_defaultOrder": 21,
    "_isFastLaunch": true,
    "category": "Compute optimized",
    "gpuNum": 0,
    "hideHardwareSpecs": false,
    "memoryGiB": 4,
    "name": "ml.c5.large",
    "vcpuNum": 2
   },
   {
    "_defaultOrder": 22,
    "_isFastLaunch": false,
    "category": "Compute optimized",
    "gpuNum": 0,
    "hideHardwareSpecs": false,
    "memoryGiB": 8,
    "name": "ml.c5.xlarge",
    "vcpuNum": 4
   },
   {
    "_defaultOrder": 23,
    "_isFastLaunch": false,
    "category": "Compute optimized",
    "gpuNum": 0,
    "hideHardwareSpecs": false,
    "memoryGiB": 16,
    "name": "ml.c5.2xlarge",
    "vcpuNum": 8
   },
   {
    "_defaultOrder": 24,
    "_isFastLaunch": false,
    "category": "Compute optimized",
    "gpuNum": 0,
    "hideHardwareSpecs": false,
    "memoryGiB": 32,
    "name": "ml.c5.4xlarge",
    "vcpuNum": 16
   },
   {
    "_defaultOrder": 25,
    "_isFastLaunch": false,
    "category": "Compute optimized",
    "gpuNum": 0,
    "hideHardwareSpecs": false,
    "memoryGiB": 72,
    "name": "ml.c5.9xlarge",
    "vcpuNum": 36
   },
   {
    "_defaultOrder": 26,
    "_isFastLaunch": false,
    "category": "Compute optimized",
    "gpuNum": 0,
    "hideHardwareSpecs": false,
    "memoryGiB": 96,
    "name": "ml.c5.12xlarge",
    "vcpuNum": 48
   },
   {
    "_defaultOrder": 27,
    "_isFastLaunch": false,
    "category": "Compute optimized",
    "gpuNum": 0,
    "hideHardwareSpecs": false,
    "memoryGiB": 144,
    "name": "ml.c5.18xlarge",
    "vcpuNum": 72
   },
   {
    "_defaultOrder": 28,
    "_isFastLaunch": false,
    "category": "Compute optimized",
    "gpuNum": 0,
    "hideHardwareSpecs": false,
    "memoryGiB": 192,
    "name": "ml.c5.24xlarge",
    "vcpuNum": 96
   },
   {
    "_defaultOrder": 29,
    "_isFastLaunch": true,
    "category": "Accelerated computing",
    "gpuNum": 1,
    "hideHardwareSpecs": false,
    "memoryGiB": 16,
    "name": "ml.g4dn.xlarge",
    "vcpuNum": 4
   },
   {
    "_defaultOrder": 30,
    "_isFastLaunch": false,
    "category": "Accelerated computing",
    "gpuNum": 1,
    "hideHardwareSpecs": false,
    "memoryGiB": 32,
    "name": "ml.g4dn.2xlarge",
    "vcpuNum": 8
   },
   {
    "_defaultOrder": 31,
    "_isFastLaunch": false,
    "category": "Accelerated computing",
    "gpuNum": 1,
    "hideHardwareSpecs": false,
    "memoryGiB": 64,
    "name": "ml.g4dn.4xlarge",
    "vcpuNum": 16
   },
   {
    "_defaultOrder": 32,
    "_isFastLaunch": false,
    "category": "Accelerated computing",
    "gpuNum": 1,
    "hideHardwareSpecs": false,
    "memoryGiB": 128,
    "name": "ml.g4dn.8xlarge",
    "vcpuNum": 32
   },
   {
    "_defaultOrder": 33,
    "_isFastLaunch": false,
    "category": "Accelerated computing",
    "gpuNum": 4,
    "hideHardwareSpecs": false,
    "memoryGiB": 192,
    "name": "ml.g4dn.12xlarge",
    "vcpuNum": 48
   },
   {
    "_defaultOrder": 34,
    "_isFastLaunch": false,
    "category": "Accelerated computing",
    "gpuNum": 1,
    "hideHardwareSpecs": false,
    "memoryGiB": 256,
    "name": "ml.g4dn.16xlarge",
    "vcpuNum": 64
   },
   {
    "_defaultOrder": 35,
    "_isFastLaunch": false,
    "category": "Accelerated computing",
    "gpuNum": 1,
    "hideHardwareSpecs": false,
    "memoryGiB": 61,
    "name": "ml.p3.2xlarge",
    "vcpuNum": 8
   },
   {
    "_defaultOrder": 36,
    "_isFastLaunch": false,
    "category": "Accelerated computing",
    "gpuNum": 4,
    "hideHardwareSpecs": false,
    "memoryGiB": 244,
    "name": "ml.p3.8xlarge",
    "vcpuNum": 32
   },
   {
    "_defaultOrder": 37,
    "_isFastLaunch": false,
    "category": "Accelerated computing",
    "gpuNum": 8,
    "hideHardwareSpecs": false,
    "memoryGiB": 488,
    "name": "ml.p3.16xlarge",
    "vcpuNum": 64
   },
   {
    "_defaultOrder": 38,
    "_isFastLaunch": false,
    "category": "Accelerated computing",
    "gpuNum": 8,
    "hideHardwareSpecs": false,
    "memoryGiB": 768,
    "name": "ml.p3dn.24xlarge",
    "vcpuNum": 96
   },
   {
    "_defaultOrder": 39,
    "_isFastLaunch": false,
    "category": "Memory Optimized",
    "gpuNum": 0,
    "hideHardwareSpecs": false,
    "memoryGiB": 16,
    "name": "ml.r5.large",
    "vcpuNum": 2
   },
   {
    "_defaultOrder": 40,
    "_isFastLaunch": false,
    "category": "Memory Optimized",
    "gpuNum": 0,
    "hideHardwareSpecs": false,
    "memoryGiB": 32,
    "name": "ml.r5.xlarge",
    "vcpuNum": 4
   },
   {
    "_defaultOrder": 41,
    "_isFastLaunch": false,
    "category": "Memory Optimized",
    "gpuNum": 0,
    "hideHardwareSpecs": false,
    "memoryGiB": 64,
    "name": "ml.r5.2xlarge",
    "vcpuNum": 8
   },
   {
    "_defaultOrder": 42,
    "_isFastLaunch": false,
    "category": "Memory Optimized",
    "gpuNum": 0,
    "hideHardwareSpecs": false,
    "memoryGiB": 128,
    "name": "ml.r5.4xlarge",
    "vcpuNum": 16
   },
   {
    "_defaultOrder": 43,
    "_isFastLaunch": false,
    "category": "Memory Optimized",
    "gpuNum": 0,
    "hideHardwareSpecs": false,
    "memoryGiB": 256,
    "name": "ml.r5.8xlarge",
    "vcpuNum": 32
   },
   {
    "_defaultOrder": 44,
    "_isFastLaunch": false,
    "category": "Memory Optimized",
    "gpuNum": 0,
    "hideHardwareSpecs": false,
    "memoryGiB": 384,
    "name": "ml.r5.12xlarge",
    "vcpuNum": 48
   },
   {
    "_defaultOrder": 45,
    "_isFastLaunch": false,
    "category": "Memory Optimized",
    "gpuNum": 0,
    "hideHardwareSpecs": false,
    "memoryGiB": 512,
    "name": "ml.r5.16xlarge",
    "vcpuNum": 64
   },
   {
    "_defaultOrder": 46,
    "_isFastLaunch": false,
    "category": "Memory Optimized",
    "gpuNum": 0,
    "hideHardwareSpecs": false,
    "memoryGiB": 768,
    "name": "ml.r5.24xlarge",
    "vcpuNum": 96
   },
   {
    "_defaultOrder": 47,
    "_isFastLaunch": false,
    "category": "Accelerated computing",
    "gpuNum": 1,
    "hideHardwareSpecs": false,
    "memoryGiB": 16,
    "name": "ml.g5.xlarge",
    "vcpuNum": 4
   },
   {
    "_defaultOrder": 48,
    "_isFastLaunch": false,
    "category": "Accelerated computing",
    "gpuNum": 1,
    "hideHardwareSpecs": false,
    "memoryGiB": 32,
    "name": "ml.g5.2xlarge",
    "vcpuNum": 8
   },
   {
    "_defaultOrder": 49,
    "_isFastLaunch": false,
    "category": "Accelerated computing",
    "gpuNum": 1,
    "hideHardwareSpecs": false,
    "memoryGiB": 64,
    "name": "ml.g5.4xlarge",
    "vcpuNum": 16
   },
   {
    "_defaultOrder": 50,
    "_isFastLaunch": false,
    "category": "Accelerated computing",
    "gpuNum": 1,
    "hideHardwareSpecs": false,
    "memoryGiB": 128,
    "name": "ml.g5.8xlarge",
    "vcpuNum": 32
   },
   {
    "_defaultOrder": 51,
    "_isFastLaunch": false,
    "category": "Accelerated computing",
    "gpuNum": 1,
    "hideHardwareSpecs": false,
    "memoryGiB": 256,
    "name": "ml.g5.16xlarge",
    "vcpuNum": 64
   },
   {
    "_defaultOrder": 52,
    "_isFastLaunch": false,
    "category": "Accelerated computing",
    "gpuNum": 4,
    "hideHardwareSpecs": false,
    "memoryGiB": 192,
    "name": "ml.g5.12xlarge",
    "vcpuNum": 48
   },
   {
    "_defaultOrder": 53,
    "_isFastLaunch": false,
    "category": "Accelerated computing",
    "gpuNum": 4,
    "hideHardwareSpecs": false,
    "memoryGiB": 384,
    "name": "ml.g5.24xlarge",
    "vcpuNum": 96
   },
   {
    "_defaultOrder": 54,
    "_isFastLaunch": false,
    "category": "Accelerated computing",
    "gpuNum": 8,
    "hideHardwareSpecs": false,
    "memoryGiB": 768,
    "name": "ml.g5.48xlarge",
    "vcpuNum": 192
   },
   {
    "_defaultOrder": 55,
    "_isFastLaunch": false,
    "category": "Accelerated computing",
    "gpuNum": 8,
    "hideHardwareSpecs": false,
    "memoryGiB": 1152,
    "name": "ml.p4d.24xlarge",
    "vcpuNum": 96
   },
   {
    "_defaultOrder": 56,
    "_isFastLaunch": false,
    "category": "Accelerated computing",
    "gpuNum": 8,
    "hideHardwareSpecs": false,
    "memoryGiB": 1152,
    "name": "ml.p4de.24xlarge",
    "vcpuNum": 96
   }
  ],
  "instance_type": "ml.t3.medium",
  "kernelspec": {
   "display_name": "Python 3 (Data Science 3.0)",
   "language": "python",
   "name": "python3__SAGEMAKER_INTERNAL__arn:aws:sagemaker:ap-southeast-1:492261229750:image/sagemaker-data-science-310-v1"
  },
  "language_info": {
   "codemirror_mode": {
    "name": "ipython",
    "version": 3
   },
   "file_extension": ".py",
   "mimetype": "text/x-python",
   "name": "python",
   "nbconvert_exporter": "python",
   "pygments_lexer": "ipython3",
   "version": "3.10.6"
  }
 },
 "nbformat": 4,
 "nbformat_minor": 5
}
