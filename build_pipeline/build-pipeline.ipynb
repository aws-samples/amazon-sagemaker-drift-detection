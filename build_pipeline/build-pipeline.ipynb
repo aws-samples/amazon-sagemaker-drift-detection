{
 "cells": [
  {
   "cell_type": "markdown",
   "metadata": {},
   "source": [
    "# Build Pipeline Notebook\n",
    "\n",
    "This notebook will exercise the drift detection MLOps `build pipeline`"
   ]
  },
  {
   "cell_type": "code",
   "execution_count": null,
   "metadata": {},
   "outputs": [],
   "source": [
    "%%capture\n",
    "!pip install -U pandas seaborn"
   ]
  },
  {
   "cell_type": "markdown",
   "metadata": {},
   "source": [
    "## Setup\n",
    "\n",
    "👇 Set the project name for your drift pipeline and store variable"
   ]
  },
  {
   "cell_type": "code",
   "execution_count": null,
   "metadata": {},
   "outputs": [],
   "source": [
    "project_name = \"<<project_name>>\"  # << Update this drift detection project\n",
    "%store project_name"
   ]
  },
  {
   "cell_type": "markdown",
   "metadata": {},
   "source": [
    "Get back the project id and region"
   ]
  },
  {
   "cell_type": "code",
   "execution_count": null,
   "metadata": {},
   "outputs": [],
   "source": [
    "import sagemaker\n",
    "import json\n",
    "\n",
    "sess = sagemaker.session.Session()\n",
    "region_name = sess._region_name\n",
    "sm_client = sess.sagemaker_client\n",
    "project_id = sm_client.describe_project(ProjectName=project_name)[\"ProjectId\"]\n",
    "artifact_bucket = f\"sagemaker-project-{project_id}-{region_name}\"\n",
    "\n",
    "print(f\"Project: {project_name} ({project_id})\")"
   ]
  },
  {
   "cell_type": "markdown",
   "metadata": {},
   "source": [
    "## Data Prep\n",
    "\n",
    "Let's copy some trip data and taxi zone files to the input location"
   ]
  },
  {
   "cell_type": "code",
   "execution_count": null,
   "metadata": {},
   "outputs": [],
   "source": [
    "from sagemaker.s3 import S3Downloader, S3Uploader\n",
    "\n",
    "# Download trip data and taxi zones to input folder\n",
    "download_uri = \"s3://nyc-tlc/trip data/green_tripdata_2018-02.csv\"\n",
    "S3Downloader().download(download_uri, \"input/data\")\n",
    "download_uri = \"s3://nyc-tlc/misc/taxi_zones.zip\"\n",
    "S3Downloader().download(download_uri, \"input/zones\")\n",
    "\n",
    "# Upload input to the target location\n",
    "input_data_uri = f\"s3://{artifact_bucket}/{project_id}/input\"\n",
    "S3Uploader().upload(\"input\", input_data_uri)\n",
    "\n",
    "print(\"Listing input files:\")\n",
    "for s3_uri in S3Downloader.list(input_data_uri):\n",
    "    print(s3_uri)"
   ]
  },
  {
   "cell_type": "markdown",
   "metadata": {},
   "source": [
    "## Train\n",
    "\n",
    "Start the pipeline now that we have uploaded some data"
   ]
  },
  {
   "cell_type": "code",
   "execution_count": null,
   "metadata": {},
   "outputs": [],
   "source": [
    "from sagemaker.workflow.pipeline import Pipeline\n",
    "\n",
    "pipeline_name = f\"{project_name}-build\"\n",
    "pipeline = Pipeline(pipeline_name)\n",
    "\n",
    "# Start pipeline\n",
    "execution = pipeline.start()\n",
    "execution_name = execution.arn.split(\"/\")[-1]\n",
    "\n",
    "print(f\"Waiting for execution: {execution_name} for pipeline {pipeline_name}...\")\n",
    "execution.wait()\n",
    "execution_status = execution.describe()[\"PipelineExecutionStatus\"]\n",
    "print(f\"Status: {execution_status}\")"
   ]
  },
  {
   "cell_type": "markdown",
   "metadata": {},
   "source": [
    "List the execution steps.  Note that we have baseline and training jobs."
   ]
  },
  {
   "cell_type": "code",
   "execution_count": null,
   "metadata": {},
   "outputs": [],
   "source": [
    "for step in execution.list_steps():\n",
    "    print(\"Step: {}, Status: {}\".format(step[\"StepName\"], step[\"StepStatus\"]))"
   ]
  },
  {
   "cell_type": "markdown",
   "metadata": {},
   "source": [
    "### Evaluate\n",
    "\n",
    "Get the estimator for the training job in the pipeline."
   ]
  },
  {
   "cell_type": "code",
   "execution_count": null,
   "metadata": {},
   "outputs": [],
   "source": [
    "from sagemaker.estimator import Estimator\n",
    "\n",
    "\n",
    "def get_execution_step(step_name):\n",
    "    return [\n",
    "        step[\"Metadata\"]\n",
    "        for step in execution.list_steps()\n",
    "        if step[\"StepName\"] == step_name\n",
    "    ]\n",
    "\n",
    "\n",
    "training_job_arn = get_execution_step(\"TrainModel\")[0][\"TrainingJob\"][\"Arn\"]\n",
    "training_job_name = training_job_arn.split(\"/\")[-1]\n",
    "estimator = Estimator.attach(training_job_name)"
   ]
  },
  {
   "cell_type": "markdown",
   "metadata": {},
   "source": [
    "### Download the Debugger XGBoost training report\n",
    "\n",
    "SageMaker Debugger generates a [XGBoost Training Report](https://docs.aws.amazon.com/sagemaker/latest/dg/debugger-training-xgboost-report.html) by a processing jobs that run concurrent to the training job. Let's wait for it to complete."
   ]
  },
  {
   "cell_type": "code",
   "execution_count": null,
   "metadata": {},
   "outputs": [],
   "source": [
    "# get name of the xgboost training report\n",
    "xgb_report_job_name = [\n",
    "    rule[\"RuleEvaluationJobArn\"].split(\"/\")[-1]\n",
    "    for rule in estimator.latest_training_job.rule_job_summary()\n",
    "    if \"CreateXgboostReport\" in rule[\"RuleConfigurationName\"]\n",
    "][0]\n",
    "\n",
    "print(\"Waiting for XGBoost training report to complete...\")\n",
    "sm_client.get_waiter(\"processing_job_completed_or_stopped\").wait(\n",
    "    ProcessingJobName=xgb_report_job_name\n",
    ")\n",
    "print(\"Done\")"
   ]
  },
  {
   "cell_type": "markdown",
   "metadata": {},
   "source": [
    "ℹ️ The code below will download the output from the Debugger report in the `report` folder.  Click the link to open the report."
   ]
  },
  {
   "cell_type": "code",
   "execution_count": null,
   "metadata": {},
   "outputs": [],
   "source": [
    "from IPython.display import FileLink\n",
    "from sagemaker.s3 import S3Downloader, S3Uploader\n",
    "\n",
    "# Get the s3 output\n",
    "report_uri = sm_client.describe_processing_job(ProcessingJobName=xgb_report_job_name)[\n",
    "    \"ProcessingOutputConfig\"\n",
    "][\"Outputs\"][0][\"S3Output\"][\"S3Uri\"]\n",
    "\n",
    "# Download the notebook from the report\n",
    "S3Downloader().download(f\"{report_uri}/xgboost_report.html\", \"report\")\n",
    "FileLink(\"report/xgboost_report.html\", result_html_prefix=\"Open Report: \")"
   ]
  },
  {
   "cell_type": "markdown",
   "metadata": {},
   "source": [
    "### Approve Model\n",
    "\n",
    "ℹ️ Once we are happy with this training job, we can [Update the Approval Status](https://docs.aws.amazon.com/sagemaker/latest/dg/model-registry-approve.html) of a model."
   ]
  },
  {
   "cell_type": "code",
   "execution_count": null,
   "metadata": {},
   "outputs": [],
   "source": [
    "model_package_arn = get_execution_step(\"RegisterModel\")[0][\"RegisterModel\"][\"Arn\"]\n",
    "model_package_version = model_package_arn.split(\"/\")[-1]\n",
    "print(f\"Model version: {model_package_version}\")"
   ]
  },
  {
   "cell_type": "markdown",
   "metadata": {},
   "source": [
    "Let's update the status to approved"
   ]
  },
  {
   "cell_type": "code",
   "execution_count": null,
   "metadata": {},
   "outputs": [],
   "source": [
    "model_package_update_input_dict = {\n",
    "    \"ModelPackageArn\": model_package_arn,\n",
    "    \"ModelApprovalStatus\": \"Approved\",\n",
    "}\n",
    "model_package_update_response = sm_client.update_model_package(\n",
    "    **model_package_update_input_dict\n",
    ")"
   ]
  },
  {
   "cell_type": "markdown",
   "metadata": {},
   "source": [
    "## Next Steps\n",
    "\n",
    "✅ Now that our model is approved, head over to the [deployment-pipeline](deployment-pipeline.ipynb) or [batch-pipeline](batch-pipeline.ipynb) notebook to test your model in staging and promote to production."
   ]
  },
  {
   "cell_type": "markdown",
   "metadata": {},
   "source": [
    "## Clean up\n",
    "\n",
    "Execute the following cell to delete any registered models."
   ]
  },
  {
   "cell_type": "code",
   "execution_count": null,
   "metadata": {},
   "outputs": [],
   "source": [
    "response = sm_client.list_model_packages(ModelPackageGroupName=project_name)\n",
    "for model_package in response[\"ModelPackageSummaryList\"]:\n",
    "    print(\"Deleting Version {}\".format(model_package[\"ModelPackageArn\"].split(\"/\")[-1]))\n",
    "    sm_client.delete_model_package(ModelPackageName=model_package[\"ModelPackageArn\"])"
   ]
  },
  {
   "cell_type": "markdown",
   "metadata": {},
   "source": [
    "Execute the following cell to delete cloudformation stacks\n",
    "\n",
    "1. SageMaker Pipeline Workflow Model Package Group"
   ]
  },
  {
   "cell_type": "code",
   "execution_count": null,
   "metadata": {},
   "outputs": [],
   "source": [
    "import boto3\n",
    "\n",
    "cfn = boto3.client(\"cloudformation\")\n",
    "\n",
    "for stack_name in [\n",
    "    f\"sagemaker-{project_name}-pipeline\",\n",
    "]:\n",
    "    print(\"Deleting stack: {}\".format(stack_name))\n",
    "    cfn.delete_stack(StackName=stack_name)\n",
    "    cfn.get_waiter(\"stack_delete_complete\").wait(StackName=stack_name)"
   ]
  },
  {
   "cell_type": "markdown",
   "metadata": {},
   "source": [
    "The following code will clean up all objects in the artifact bucket and delete the SageMaker project."
   ]
  },
  {
   "cell_type": "code",
   "execution_count": null,
   "metadata": {},
   "outputs": [],
   "source": [
    "s3_resource = boto3.resource(\"s3\")\n",
    "s3_artifact_bucket = s3_resource.Bucket(artifact_bucket)\n",
    "s3_artifact_bucket.object_versions.delete()\n",
    "print(\"Artifact bucket objects deleted\")\n",
    "\n",
    "sm_client.delete_project(ProjectName=project_name)\n",
    "print(\"SageMaker Project deleted\")"
   ]
  }
 ],
 "metadata": {
  "instance_type": "ml.t3.medium",
  "interpreter": {
   "hash": "07c1d6c68b7b22b50965762993b154aa5a1dd6aa65a365988d7d4c27c573599b"
  },
  "kernelspec": {
   "display_name": "Python 3 (Data Science)",
   "language": "python",
   "name": "python3__SAGEMAKER_INTERNAL__arn:aws:sagemaker:us-west-1:742091327244:image/datascience-1.0"
  },
  "language_info": {
   "codemirror_mode": {
    "name": "ipython",
    "version": 3
   },
   "file_extension": ".py",
   "mimetype": "text/x-python",
   "name": "python",
   "nbconvert_exporter": "python",
   "pygments_lexer": "ipython3",
   "version": "3.7.10"
  }
 },
 "nbformat": 4,
 "nbformat_minor": 4
}
